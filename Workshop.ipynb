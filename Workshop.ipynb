{
 "cells": [
  {
   "cell_type": "markdown",
   "metadata": {},
   "source": [
    " # T.F.V. 'Professor Francken' Python workshop"
   ]
  },
  {
   "cell_type": "markdown",
   "metadata": {},
   "source": [
    "So you have had your first course in python or you're interested in doing more. This workshop teaches you some extra skills you can use for your coding."
   ]
  },
  {
   "cell_type": "markdown",
   "metadata": {},
   "source": [
    "## Classes\n",
    "\n",
    "The power of python lies with Object Oriented Programming. But what does this mean? Take the example from the slides. A table is an object which has properties such as colour, made out of a certain material, price, and so forth. But to build the same table in a different colour, doesn't require you to use a different building blueprint. This blueprint is what meant by a **Class**. The class describes how you can build an object. Take a look at the example code from the slides in the `classes/Example` to get a general understanding of how classes work. When you use a class to make an object with certain **attributes**, it is called an **instance**. You can have more than two different instances of the same class which have different attributes, like a brown and black table. The benefits of using classes is that it avoids repetitive programming, data is easily temporarily stored, or maybe just a place where you want to store functions. In the following section you will make a class that describes employees of a company.\n"
   ]
  },
  {
   "cell_type": "markdown",
   "metadata": {},
   "source": [
    "### Make your own employee class\n",
    "Besides working in notebooks, it is common practice to organise your code in such a way that it is accessible from multiple files. So instead of writing all your code in a jupyter notebook like this, you can instead make your class in the file `Employee.py` and access it by importing it into your notebook (or python file).\n"
   ]
  },
  {
   "cell_type": "code",
   "execution_count": 7,
   "metadata": {},
   "outputs": [
    {
     "data": {
      "text/plain": [
       "<module 'employee' from 'c:\\\\Users\\\\sjoer\\\\OneDrive\\\\Documenten\\\\MSc Applied physics\\\\Francken\\\\Python_workshop\\\\employee.py'>"
      ]
     },
     "execution_count": 7,
     "metadata": {},
     "output_type": "execute_result"
    }
   ],
   "source": [
    "import employee\n",
    "import importlib\n",
    "importlib.reload(employee)"
   ]
  },
  {
   "cell_type": "markdown",
   "metadata": {},
   "source": [
    "First define your __ init __ function (note the two underscores before and after init). This initialize function takes the variables needed that determine the properties of the object. Important attributes of an employee at a company could be their name, birthday, company id, and what else you find important. <br> <br>*Extra: if you want to add extra attributes but you don't know what yet, you can add `**kwargs` as a variable and make that an attribute of the class. kwargs stands for keyword arguments. This attribute is then a tuple of extra attributes that can be different for everyone. When you want give such arguments to an instance you just give it an extra keyword argument besides the required arguments, like `Employee(name,birthday,id,random_argument='something interesting')`*."
   ]
  },
  {
   "cell_type": "markdown",
   "metadata": {},
   "source": [
    "Now that you have imported `employee.py` you can now use the employee class by calling `employee.Employee(name, birthday, id, manager)`. \n",
    "\n",
    "### Exercise 1\n",
    "- Edit the `Employee` class by completing its attributes with the variables that are passed on to the `__init__` function. Check to see if you have access to the instance attributes in this notebook by making an object. Make sure you save `employee.py` and refresh the import code cell.\n",
    "- Make a method (function) in the class that returns a string of the first name of the employee, do the same for the last name. **Hint: use the .split() property of strings.**\n",
    "- Make a method that returns the age of an employee. **Hint: you can use the `datetime.strptime(birthday, '%Y-%m-%d')` function to make `birthday`a datetime object. To get the current date you can use `date.today()`. You can find the difference in days by writing `abs(date_1-date_2).days()`. Don't forget to import the `datetime` and `date` modules first.\n",
    "- Add a new attribute called `self.salary` and set it to a (un)reasonable number. Then make a method `promotion` that takes as an input by how much money the salary of the employee must increase. You do this by reassigning the value of self.salary in the `promotion` method. Check that the `promotion` method works by comparing it to an employee that did not get a promotion.\n",
    "- **Extra: If you have time, make a method that returns the employees middle names if they have any. Furthermore, can you make a method that returns all initials of the employee. Finally, you can make an `info()` method that returns al information about an employee.**"
   ]
  },
  {
   "cell_type": "code",
   "execution_count": 9,
   "metadata": {},
   "outputs": [
    {
     "name": "stdout",
     "output_type": "stream",
     "text": [
      "None\n"
     ]
    }
   ],
   "source": [
    "# employee_1=employee.Employee(\" \", \" \", ,\" \")       #make an object by filling in the variables\n"
   ]
  },
  {
   "cell_type": "markdown",
   "metadata": {},
   "source": [
    "### Exercise 2\n"
   ]
  },
  {
   "cell_type": "markdown",
   "metadata": {},
   "source": [
    "## SQL Databases\n",
    "\n",
    "Storing data is a key aspect of any coding projects you come may across, be it a personal passion project, a project for a study assignment, for a research group, or maybe even for a job in your near future. Data can come in many forms, the most simple of which being a simple file on your computer like a .txt or .csv or perhaps a .xlsx spreadsheet.\n",
    "\n",
    "Understandably, if you're a very large research group or company, managing many files or a folder system is not very particle. Imagine storing all usernames and passwords for a website on a single .csv, it's just not going to work on a large scale! Multiple people need to be able to access the data at the same time as well as change it, this is where databases come in.\n",
    "\n",
    "Databases let people store vast amounts of data in the form of tables, and makes it easily accessible for multiple users/systems. To make things easy for us, almost all databases are run using a central control system on a server that accepts the industry standard input, SQL commands.\n",
    "\n",
    "SQL stands for \"Structured Query Language\", which is a standard input to ensure all systems can easily access the database."
   ]
  },
  {
   "cell_type": "markdown",
   "metadata": {},
   "source": [
    "### Exercise 1 - Making a database\n",
    "\n",
    "In the case of python, we first need to establish a connection to a database, then use this connection to issue SQL commands to retrieve, add, and modify data within the database.\n",
    "\n",
    "We don't have access to a full fledged database, so instead we will use the **sqlite3** library to make our own in the form of a .db file. sqlite3 is a standard, pre installed, python library, so you won't have to pip install anything.\n",
    "\n",
    "You need to do two things to start using a database. First you need to connect to a database, but just like a spreadsheet, you can't do much without a cursor, so you will also need to create that as well. A cursor is a selection of data within the database, and will be used to of course select things, but also move data around.\n",
    "\n",
    "Your connection will store the changes the cursor has made to a database, so in order to finalize changes made, you need to use the connection to commit these changes. Be carful though, there is no turning back after committing to changes! Generally you want to fully debug and validate your code before you start committing to the database.\n",
    "\n",
    "Use the code block to complete the following tasks.\n",
    "\n",
    "- import sqlite3\n",
    "- create a database file by connecting to one that doesn't exist yet\n",
    "- create a cursor to issue commands to your database"
   ]
  },
  {
   "cell_type": "code",
   "execution_count": null,
   "metadata": {},
   "outputs": [],
   "source": []
  },
  {
   "cell_type": "markdown",
   "metadata": {},
   "source": [
    "### Exercise 2 - Issuing commands with your cursor\n",
    "\n",
    "A empty database is no good, so we will also add a table to our database. Think of it as adding a new sheet to a excel spreadsheet. You will need to specify what columns need to be in the table. This can be done with the SQL command<br />`CREATE TABLE table(column1, column2)` with `table(column1, column2)` being the name of your table and the names of its columns.\n",
    "\n",
    "Once we have a table, we can start adding some data. Adding data can be done by issuing the following SQL command<br />`INSERT INTO table VALUES (\"thing 1 column 1\", \"thing 1 column 2\"), (\"thing 2 column 1\", \"thing 2 column 2\")`, `table` being the name of the table you made before.\n",
    "\n",
    "One last useful SQL command is `SELECT`.<br />`SELECT column FROM table` will let you select certain columns from a table, you can also use `*` instead of the column names to select all of them. This will only select the table however. If you want to get the data out of the cursor, use `cur.fetchall()`, with `cur` being your cursor object.\n",
    "\n",
    "Use the code block to complete the following tasks\n",
    "\n",
    "- use your cursor to make a new table called movies, with the columns: title, year, and score\n",
    "- add the following data to your table\n",
    "\n",
    "~~~~\n",
    "('Monty Python and the Holy Grail', 1975, 8.2)\n",
    "('And Now for Something Completely Different', 1971, 7.5)\n",
    "~~~~\n",
    "\n",
    "- verify your table now contains your data by printing it\n",
    "- commit your new table and its contents to the database"
   ]
  },
  {
   "cell_type": "code",
   "execution_count": null,
   "metadata": {},
   "outputs": [],
   "source": []
  },
  {
   "cell_type": "markdown",
   "metadata": {},
   "source": [
    "## Final Exercise\n",
    "\n",
    "To put everything together, you will be given the Chinook databse to make a list of objects representing employees. The Chinook database is a publicly avalible SQL/SQLite database with all sorts of information included (in the github reposetory you will find `Chinook.db`). For this exercise you will only need to use the `Employee` table to get all of your data. The table has many columns, so be sure to only pick out only the things you need.\n",
    "\n",
    "Employee =  \n",
    "[EmployeeId,\n",
    "LastName,\n",
    "FirstName,\n",
    "Title,\n",
    "ReportsTo,\n",
    "BirthDate,\n",
    "HireDate,\n",
    "Address,\n",
    "City,\n",
    "State,\n",
    "Country,\n",
    "PostalCode,\n",
    "Phone,\n",
    "Fax,\n",
    "Email]\n",
    "\n",
    "If you ever want to see what columns are in a table you can use `SELECT name FROM pragma_table_info('table')`\n",
    "\n",
    "Use the code block to complete the following tasks\n",
    "\n",
    "- extract all the information you need from the `Chinook.db` database\n",
    "- create a list of people using the data you gathered"
   ]
  },
  {
   "cell_type": "code",
   "execution_count": null,
   "metadata": {},
   "outputs": [],
   "source": []
  }
 ],
 "metadata": {
  "kernelspec": {
   "display_name": "Python 3",
   "language": "python",
   "name": "python3"
  },
  "language_info": {
   "codemirror_mode": {
    "name": "ipython",
    "version": 3
   },
   "file_extension": ".py",
   "mimetype": "text/x-python",
   "name": "python",
   "nbconvert_exporter": "python",
   "pygments_lexer": "ipython3",
   "version": "3.11.6"
  }
 },
 "nbformat": 4,
 "nbformat_minor": 2
}
